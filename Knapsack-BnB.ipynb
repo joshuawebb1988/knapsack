{
 "cells": [
  {
   "cell_type": "markdown",
   "metadata": {},
   "source": [
    "# Knapsack Problem - Branch and Bound (Limited Discrepancy Search)"
   ]
  },
  {
   "cell_type": "markdown",
   "metadata": {},
   "source": [
    "## Problem Definition"
   ]
  },
  {
   "cell_type": "markdown",
   "metadata": {},
   "source": [
    "Maximize the value of items packed into the knapsack without exceeding its total capacity.\n",
    "\n",
    "Given $n$ items to choose from, each item $i \\in 0...n-1$ has a value $v_{i}$ and a\n",
    "weight $w_{i}$. The knapsack has a limited capacity $K$. Let $x_{i}$ be a variable that is $1$ if you choose to take item $i$ and $0$ if you leave item $i$ behind."
   ]
  },
  {
   "cell_type": "markdown",
   "metadata": {},
   "source": [
    "$$\\begin{array}{l l} \n",
    "\\text{maximise:} \\quad \n",
    "                    & \\sum_{i \\in 0...n-1} v_{i}x_{i} \\\\\n",
    "\\text{subject to:} \\quad \n",
    "                    & \\sum_{i \\in 0...n-1} w_{i}x_{i} \\leq K \\\\\n",
    "                    & x_{i} \\in \\{0,1\\} \\quad (i \\in 0...n-1)\n",
    "\\end{array}\n",
    "$$"
   ]
  },
  {
   "cell_type": "markdown",
   "metadata": {},
   "source": [
    "## Data Format Specification"
   ]
  },
  {
   "cell_type": "markdown",
   "metadata": {},
   "source": [
    "A knapsack input contains $n + 1$ lines. The first line contains two integers, the first is the number of items in the problem, $n$. The second number is the capacity of the knapsack, $K$. The remaining lines present the data for each of the items. Each line, $i \\in 0...n-1$ contains two integers, the item's value $v_i$ followed by its weight $w_i$."
   ]
  },
  {
   "cell_type": "markdown",
   "metadata": {},
   "source": [
    "Input Format\n",
    "<div style=\"border: 1px solid black\">\n",
    "<samp>n K\n",
    "v_0 w_0\n",
    "v_1 w_1\n",
    "...\n",
    "v_n-1 w_n-1\n",
    "</samp>\n",
    "</div>"
   ]
  },
  {
   "cell_type": "markdown",
   "metadata": {},
   "source": [
    "The output contains a knapsack solution and is made of two lines. \n",
    "\n",
    "The first line contains two values $obj$ and $opt$.\n",
    "\n",
    "$obj$ is the total value of the items selected to go into the knapsack (i.e. the objective value). $opt$ should be $1$ if your algorithm proved optimality and $0$ otherwise. \n",
    "\n",
    "The second line is a list of $n$ $0/1$-values, one for each of the $x_i$ variables. This line encodes the solution."
   ]
  },
  {
   "cell_type": "markdown",
   "metadata": {},
   "source": [
    "Output Format\n",
    "<div style=\"border: 1px solid black\">\n",
    "<samp>obj opt\n",
    "x_0 x_1 x_2 ... x_n-1\n",
    "</samp>\n",
    "</div>"
   ]
  },
  {
   "cell_type": "markdown",
   "metadata": {},
   "source": [
    "## Branch and Bound Solution"
   ]
  },
  {
   "cell_type": "code",
   "execution_count": 35,
   "metadata": {
    "collapsed": false
   },
   "outputs": [],
   "source": [
    "import heapq\n",
    "from collections import namedtuple\n",
    "Item = namedtuple(\"Item\", ['index', 'value', 'weight', 'perf'])"
   ]
  },
  {
   "cell_type": "code",
   "execution_count": 36,
   "metadata": {
    "collapsed": false
   },
   "outputs": [],
   "source": [
    "#Data Preparation\n",
    "file_location = '.\\data\\ks_1000_0'"
   ]
  },
  {
   "cell_type": "code",
   "execution_count": 37,
   "metadata": {
    "collapsed": false,
    "scrolled": true
   },
   "outputs": [],
   "source": [
    "items = []\n",
    "\n",
    "with open(file_location, 'r') as input_data_file:\n",
    "    iter_input_data_file = iter(input_data_file.readline, '')\n",
    "    for line_idx, line in enumerate(iter_input_data_file):\n",
    "        parts = line.split()\n",
    "        if line_idx == 0:\n",
    "            item_count = int(parts[0])\n",
    "            capacity = int(parts[1])\n",
    "        else:\n",
    "            value = int(parts[0])\n",
    "            weight = int(parts[1])\n",
    "            perf = float(parts[0]) / float(parts[1])\n",
    "            items.append(Item(line_idx-1, value, weight, perf))\n",
    "\n",
    "items.sort(key=lambda item: item.perf, reverse=True)"
   ]
  },
  {
   "cell_type": "code",
   "execution_count": 38,
   "metadata": {
    "collapsed": false
   },
   "outputs": [
    {
     "data": {
      "text/plain": [
       "[Item(index=642, value=3439, weight=3127, perf=1.0997761432683082),\n",
       " Item(index=519, value=13710, weight=12469, perf=1.099526826529794),\n",
       " Item(index=336, value=15347, weight=13958, perf=1.0995128241868461),\n",
       " Item(index=59, value=6646, weight=6045, perf=1.0994210090984284),\n",
       " Item(index=553, value=14781, weight=13446, perf=1.0992860330209728),\n",
       " Item(index=525, value=6064, weight=5517, perf=1.0991480877288382),\n",
       " Item(index=801, value=2295, weight=2088, perf=1.0991379310344827),\n",
       " Item(index=115, value=12721, weight=11574, perf=1.0991014342491792),\n",
       " Item(index=504, value=9142, weight=8318, perf=1.0990622745852368),\n",
       " Item(index=485, value=11450, weight=10424, perf=1.098426707597851)]"
      ]
     },
     "execution_count": 38,
     "metadata": {},
     "output_type": "execute_result"
    }
   ],
   "source": [
    "items[0:10]"
   ]
  },
  {
   "cell_type": "code",
   "execution_count": 39,
   "metadata": {
    "collapsed": false
   },
   "outputs": [],
   "source": [
    "def heuristic(declist, itemlist, capacity, value=0, weight=0):\n",
    "    '''\n",
    "    Return upper-bound maximum value for knapsack from decision list, \n",
    "    item list (sorted by value/weight) and knapsack capacity.\n",
    "    '''\n",
    "    \n",
    "    if value==0 and weight==0:   #if value and weight aren't input\n",
    "        value, weight = current_properties(declist, itemlist)\n",
    "    k = capacity - weight\n",
    "    k_check = False\n",
    "    \n",
    "    if k <= 0:   #check if knapsack at capacity or below\n",
    "        return value   \n",
    "    for item in itemlist[len(declist):]:   #iterate over remaining items, calculate maximum possible value\n",
    "        if (item.weight <= k) and (k > 0):\n",
    "            k_check = True\n",
    "            value += item.value\n",
    "            weight += item.weight\n",
    "            k -= item.weight\n",
    "        else:\n",
    "            if (k_check == True):\n",
    "                value += (float(item.value) / float(item.weight)) * k\n",
    "                k = 0\n",
    "                return value\n",
    "    \n",
    "    return value"
   ]
  },
  {
   "cell_type": "code",
   "execution_count": 40,
   "metadata": {
    "collapsed": false
   },
   "outputs": [],
   "source": [
    "def current_properties(declist, itemlist):\n",
    "    '''\n",
    "    Return current value, weight of knapsack.\n",
    "    '''\n",
    "    value = 0\n",
    "    weight = 0\n",
    "    for i, dec in enumerate(declist):   #calculate current value, weight of knapsack\n",
    "        value += dec * itemlist[i].value\n",
    "        weight += dec * itemlist[i].weight\n",
    "    return value, weight"
   ]
  },
  {
   "cell_type": "code",
   "execution_count": 41,
   "metadata": {
    "collapsed": false
   },
   "outputs": [],
   "source": [
    "Node = namedtuple('Node', ['sortval', 'sortval2', 'heuristic', 'index', 'declist', 'value', 'weight'])"
   ]
  },
  {
   "cell_type": "code",
   "execution_count": 42,
   "metadata": {
    "collapsed": false
   },
   "outputs": [],
   "source": [
    "nidx = 0\n",
    "startnode_heuristic = heuristic([],items,capacity)\n",
    "startnode = Node(0,-startnode_heuristic, startnode_heuristic ,nidx,[],0,0)"
   ]
  },
  {
   "cell_type": "code",
   "execution_count": 43,
   "metadata": {
    "collapsed": true
   },
   "outputs": [],
   "source": [
    "q_nodes, v_decs = [], set()   #q_nodes for nodes yet to be explored, v_decs for set of decision tuples already explored\n",
    "heapq.heappush(q_nodes, startnode)"
   ]
  },
  {
   "cell_type": "code",
   "execution_count": 44,
   "metadata": {
    "collapsed": true
   },
   "outputs": [],
   "source": [
    "b_value = 0\n",
    "b_weight = 0\n",
    "b_declist = []\n",
    "zero_declist = [0] * len(items)"
   ]
  },
  {
   "cell_type": "code",
   "execution_count": 45,
   "metadata": {
    "collapsed": false
   },
   "outputs": [
    {
     "name": "stdout",
     "output_type": "stream",
     "text": [
      "0 0 0 0 0\n",
      "[]\n",
      "30000 109874 99989 1586 0\n",
      "60000 109883 99994 503 0\n",
      "90000 109890 99999 53 0\n",
      "120000 109890 99999 39 0\n"
     ]
    }
   ],
   "source": [
    "while q_nodes:\n",
    "    inode = heapq.heappop(q_nodes)\n",
    "    temp_declist = inode.declist[:]\n",
    "    #if nidx < 50: print inode\n",
    "    if nidx % 30000 == 0: print(nidx, b_value, b_weight, len(q_nodes), len(v_decs))\n",
    "    if nidx % 300000 == 0: print(b_declist)\n",
    "    #if (tuple(inode.declist) in v_decs) and (nidx != 0):   # if already visited, skip node\n",
    "    #    continue\n",
    "    if (inode.value > b_value) and (inode.weight <= capacity):   #if node is better than current best\n",
    "        b_value = inode.value\n",
    "        b_weight = inode.weight\n",
    "        b_declist = inode.declist[:]\n",
    "        b_declist.extend([0] * (len(items) - len(b_declist)))\n",
    "    if (inode.value == b_value) and (inode.weight <= capacity) and (len(inode.declist) >= len(b_declist)):\n",
    "        b_declist = inode.declist[:]\n",
    "    #v_decs.add(tuple(inode.declist))   #add node to visited list\n",
    "    #temp_declist.extend([0] * (len(items) - len(temp_declist)))\n",
    "    #v_decs.add(tuple(temp_declist))\n",
    "    \n",
    "    \n",
    "    if len(inode.declist) == len(items):   #if nil further decisions / children nodes\n",
    "        continue\n",
    "    #child nodes\n",
    "    for dec in [1,0]:\n",
    "        child_declist = inode.declist[:]\n",
    "        child_declist.append(dec)\n",
    "        childtemp_declist = child_declist[:]\n",
    "        child_value, child_weight = current_properties(child_declist, items)\n",
    "        child_heuristic = heuristic(child_declist, items, capacity, child_value, child_weight)\n",
    "        child_sortval = len(child_declist) / max(0.001, float(sum(child_declist)))\n",
    "        child_node = Node(child_sortval,-child_heuristic, child_heuristic, nidx+1, child_declist, child_value, child_weight)\n",
    "        if (capacity - child_weight >= 0) and (child_heuristic >= b_value) and (tuple(child_node.declist) not in v_decs):\n",
    "            heapq.heappush(q_nodes, child_node)\n",
    "        #else: \n",
    "        #    v_decs.add(tuple(child_node.declist))\n",
    "        #    childtemp_declist.extend([0] * (len(items) - len(childtemp_declist)))\n",
    "        #    v_decs.add(tuple(childtemp_declist))\n",
    "        nidx += 1"
   ]
  },
  {
   "cell_type": "code",
   "execution_count": 46,
   "metadata": {
    "collapsed": false
   },
   "outputs": [],
   "source": [
    "output_data = str(b_value) + ' ' + str(0) + '\\n'"
   ]
  },
  {
   "cell_type": "code",
   "execution_count": 47,
   "metadata": {
    "collapsed": false
   },
   "outputs": [],
   "source": [
    "sorted_items = sorted(zip(items, b_declist), key=lambda record: record[0].index, reverse=False)\n",
    "taken = [b for a, b in sorted_items]"
   ]
  },
  {
   "cell_type": "code",
   "execution_count": 48,
   "metadata": {
    "collapsed": false
   },
   "outputs": [],
   "source": [
    "output_data += ' '.join(map(str, taken))"
   ]
  },
  {
   "cell_type": "code",
   "execution_count": 49,
   "metadata": {
    "collapsed": false
   },
   "outputs": [
    {
     "name": "stdout",
     "output_type": "stream",
     "text": [
      "109899 0\n",
      "0 0 0 0 0 0 0 0 0 0 0 0 0 0 0 0 0 0 0 0 0 0 0 0 0 0 0 0 0 0 0 0 0 0 0 0 0 0 0 0 0 0 0 0 0 0 0 0 0 0 0 0 0 0 0 0 0 0 0 1 0 0 0 0 0 0 0 0 0 0 0 0 0 0 0 0 1 0 0 0 0 0 0 0 0 0 0 0 0 0 0 0 0 0 0 0 0 0 0 0 0 0 0 0 0 0 0 0 0 0 0 0 0 0 0 1 0 0 0 0 0 0 0 0 1 0 0 0 0 0 0 0 0 0 0 0 0 0 0 0 0 0 0 0 0 0 0 0 0 0 0 0 0 0 0 0 0 0 0 0 0 0 0 0 0 0 0 0 0 0 0 0 0 0 0 0 0 0 0 0 0 0 0 0 0 0 0 0 0 0 0 0 0 0 0 0 0 0 0 0 0 0 0 0 0 0 0 0 0 0 0 0 0 0 0 0 0 0 0 0 0 0 0 0 0 0 0 0 0 0 0 0 0 0 0 0 0 0 0 0 0 0 0 0 0 0 0 0 0 0 0 0 0 0 0 0 0 0 0 0 0 0 0 0 0 0 0 0 0 0 0 0 0 0 0 0 0 0 0 0 0 0 0 0 0 0 0 0 0 0 0 0 0 0 0 0 0 0 0 0 0 0 0 0 0 0 0 0 0 0 0 0 0 0 0 0 0 0 0 0 0 0 0 0 0 0 0 0 0 0 0 0 0 0 0 0 1 0 0 0 0 0 0 0 0 0 0 0 0 0 0 0 0 0 0 0 0 0 0 0 0 0 0 0 0 0 0 0 0 0 0 0 0 0 0 0 0 0 0 0 0 0 0 0 0 0 0 0 0 0 0 0 0 0 1 0 0 0 0 0 0 0 0 0 0 0 0 0 0 0 0 0 0 0 0 0 0 0 0 0 0 0 0 0 0 0 0 0 0 0 0 0 0 0 0 0 0 0 0 0 0 0 0 0 0 0 0 0 0 0 0 0 0 0 0 0 0 0 0 0 0 0 0 0 0 0 0 0 0 0 0 0 0 0 0 0 0 0 0 0 0 0 0 0 0 1 0 0 0 0 0 0 0 0 0 0 0 0 0 0 0 0 0 0 1 0 0 0 0 0 0 0 0 0 0 0 0 0 0 1 0 0 0 0 0 1 0 0 0 0 0 0 0 0 0 0 0 0 0 0 0 0 0 0 0 0 0 0 0 0 0 0 0 1 0 0 0 0 0 0 0 0 0 0 0 0 0 0 0 0 0 0 0 0 0 0 0 0 0 0 0 0 0 0 0 0 0 0 0 0 0 0 0 0 0 0 0 0 0 0 0 0 0 0 0 0 0 0 0 0 0 0 0 0 0 0 0 0 0 0 0 0 0 0 0 0 0 1 0 0 0 0 0 0 0 0 0 0 0 0 0 0 1 0 0 0 0 0 0 0 0 0 0 0 0 0 0 0 0 0 0 0 0 0 0 0 0 0 0 0 0 0 0 0 0 0 0 0 0 0 0 0 0 0 0 0 0 0 0 1 0 0 0 0 0 0 0 0 0 0 0 0 0 1 0 0 0 0 0 0 0 0 0 0 0 0 0 0 0 0 0 0 0 0 0 0 0 0 0 0 0 0 0 0 0 0 0 0 0 0 0 0 0 0 0 0 0 0 0 0 0 0 0 0 0 0 0 0 0 0 0 0 0 0 0 0 0 0 0 0 0 0 0 0 0 0 0 0 0 0 0 0 0 0 0 0 0 0 0 0 0 0 0 0 0 0 0 0 0 0 0 1 0 0 0 0 0 0 0 0 0 0 0 0 0 0 0 0 0 0 0 0 0 0 0 0 0 0 0 0 0 0 0 0 0 0 0 0 0 0 0 0 0 0 0 0 0 0 0 0 0 0 0 0 0 0 0 0 0 0 0 0 0 0 0 0 0 0 0 0 0 0 0 0 0 0 0 0 0 0 0 0 0 0 0 0 0 0 0 1 0 0 0 0 0 0 0 0 0 0 0 0 0 0 0 0 0 0 0 0 0 0 0 0 0 0 0 0 0 0 0 0 0 0 0 0 0 0 0 1 0 0 0 0 0 0 0 0 0 0 0 0 0 0 0 0 0 0 0 0 0 0 0 0 0 0 0 0 0 0 0 0 0 0 0 0 0 0 0 0 0 0 0 0 0 0 0 0 0 0 0 0 0 0 0 0 0 0 0 0 0 0 0 0 0 0 0 0 0 0\n"
     ]
    }
   ],
   "source": [
    "print(output_data)"
   ]
  },
  {
   "cell_type": "code",
   "execution_count": 50,
   "metadata": {
    "collapsed": false
   },
   "outputs": [
    {
     "name": "stdout",
     "output_type": "stream",
     "text": [
      "Sum Value= 109899\n",
      "Sum Weight= 99999\n",
      "Capacity= 100000\n",
      "Count Items taken= 18\n"
     ]
    }
   ],
   "source": [
    "print('Sum Value= ' + str(sum(a.value for (a,b) in sorted_items if b == 1)))\n",
    "\n",
    "print('Sum Weight= ' + str(sum(a.weight for (a,b) in sorted_items if b == 1)))\n",
    "\n",
    "print('Capacity= ' + str(capacity))\n",
    "\n",
    "print('Count Items taken= ' + str(sum(taken)))"
   ]
  },
  {
   "cell_type": "code",
   "execution_count": null,
   "metadata": {
    "collapsed": false
   },
   "outputs": [],
   "source": []
  },
  {
   "cell_type": "code",
   "execution_count": null,
   "metadata": {
    "collapsed": true
   },
   "outputs": [],
   "source": []
  }
 ],
 "metadata": {
  "kernelspec": {
   "display_name": "Python 3",
   "language": "python",
   "name": "python3"
  },
  "language_info": {
   "codemirror_mode": {
    "name": "ipython",
    "version": 3
   },
   "file_extension": ".py",
   "mimetype": "text/x-python",
   "name": "python",
   "nbconvert_exporter": "python",
   "pygments_lexer": "ipython3",
   "version": "3.4.3"
  }
 },
 "nbformat": 4,
 "nbformat_minor": 0
}
