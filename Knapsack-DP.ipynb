{
 "cells": [
  {
   "cell_type": "markdown",
   "metadata": {},
   "source": [
    "# Knapsack Problem - Dynamic Programming"
   ]
  },
  {
   "cell_type": "markdown",
   "metadata": {},
   "source": [
    "## Problem Definition"
   ]
  },
  {
   "cell_type": "markdown",
   "metadata": {},
   "source": [
    "Maximize the value of items packed into the knapsack without exceeding its total capacity.\n",
    "\n",
    "Given $n$ items to choose from, each item $i \\in 0...n-1$ has a value $v_{i}$ and a\n",
    "weight $w_{i}$. The knapsack has a limited capacity $K$. Let $x_{i}$ be a variable that is $1$ if you choose to take item $i$ and $0$ if you leave item $i$ behind."
   ]
  },
  {
   "cell_type": "markdown",
   "metadata": {},
   "source": [
    "$$\\begin{array}{l l} \n",
    "\\text{maximise:} \\quad \n",
    "                    & \\sum_{i \\in 0...n-1} v_{i}x_{i} \\\\\n",
    "\\text{subject to:} \\quad \n",
    "                    & \\sum_{i \\in 0...n-1} w_{i}x_{i} \\leq K \\\\\n",
    "                    & x_{i} \\in \\{0,1\\} \\quad (i \\in 0...n-1)\n",
    "\\end{array}\n",
    "$$"
   ]
  },
  {
   "cell_type": "markdown",
   "metadata": {},
   "source": [
    "## Data Format Specification"
   ]
  },
  {
   "cell_type": "markdown",
   "metadata": {},
   "source": [
    "A knapsack input contains $n + 1$ lines. The first line contains two integers, the first is the number of items in the problem, $n$. The second number is the capacity of the knapsack, $K$. The remaining lines present the data for each of the items. Each line, $i \\in 0...n-1$ contains two integers, the item's value $v_i$ followed by its weight $w_i$."
   ]
  },
  {
   "cell_type": "markdown",
   "metadata": {},
   "source": [
    "Input Format\n",
    "<div style=\"border: 1px solid black\">\n",
    "<samp>n K\n",
    "v_0 w_0\n",
    "v_1 w_1\n",
    "...\n",
    "v_n-1 w_n-1\n",
    "</samp>\n",
    "</div>"
   ]
  },
  {
   "cell_type": "markdown",
   "metadata": {},
   "source": [
    "The output contains a knapsack solution and is made of two lines. \n",
    "\n",
    "The first line contains two values $obj$ and $opt$.\n",
    "\n",
    "$obj$ is the total value of the items selected to go into the knapsack (i.e. the objective value). $opt$ should be $1$ if your algorithm proved optimality and $0$ otherwise. \n",
    "\n",
    "The second line is a list of $n$ $0/1$-values, one for each of the $x_i$ variables. This line encodes the solution."
   ]
  },
  {
   "cell_type": "markdown",
   "metadata": {},
   "source": [
    "Output Format\n",
    "<div style=\"border: 1px solid black\">\n",
    "<samp>obj opt\n",
    "x_0 x_1 x_2 ... x_n-1\n",
    "</samp>\n",
    "</div>"
   ]
  },
  {
   "cell_type": "markdown",
   "metadata": {},
   "source": [
    "## Dynamic Programming Solution"
   ]
  },
  {
   "cell_type": "markdown",
   "metadata": {},
   "source": [
    "$$\n",
    "\\begin{array}{l l}\n",
    "\\text{if } w_j \\leq k \\text{ : } \\quad\n",
    "&O(k,j) = \\max ( O(k, j-1), v_j + O(k - w_j, j-1) ) \\\\\n",
    "\\text{else : } \\quad\n",
    "&O(k,j) = O(k,j-1) \\\\\n",
    "\\\\\n",
    "\\text{note: }\n",
    "& O(k,0) = 0 \\text{ for all k} \\\\\n",
    "& k \\in 0...K \\\\\n",
    "& j \\in i \\in 0...n-1\n",
    "\\end{array}\n",
    "$$"
   ]
  },
  {
   "cell_type": "code",
   "execution_count": 1,
   "metadata": {
    "collapsed": false
   },
   "outputs": [],
   "source": [
    "import numpy as np\n",
    "\n",
    "from collections import namedtuple\n",
    "Item = namedtuple(\"Item\", ['index', 'value', 'weight'])"
   ]
  },
  {
   "cell_type": "code",
   "execution_count": 2,
   "metadata": {
    "collapsed": false
   },
   "outputs": [],
   "source": [
    "#Data Preparation\n",
    "file_location = '.\\data\\ks_30_0'"
   ]
  },
  {
   "cell_type": "code",
   "execution_count": 3,
   "metadata": {
    "collapsed": false
   },
   "outputs": [
    {
     "name": "stderr",
     "output_type": "stream",
     "text": [
      "C:\\Anaconda3\\lib\\site-packages\\ipykernel\\__main__.py:17: DeprecationWarning: using a non-integer number instead of an integer will result in an error in the future\n"
     ]
    }
   ],
   "source": [
    "items = []\n",
    "\n",
    "with open(file_location, 'r') as input_data_file:\n",
    "    iter_input_data_file = iter(input_data_file.readline, '')\n",
    "    for line_idx, line in enumerate(iter_input_data_file):\n",
    "        parts = line.split()\n",
    "        if line_idx == 0:\n",
    "            item_count = int(parts[0])\n",
    "            capacity = int(parts[1])\n",
    "            dp_table = np.zeros((capacity+1, item_count+1), dtype=np.uint64, order='F')\n",
    "        else:\n",
    "            items.append(Item(line_idx-1, int(parts[0]), int(parts[1])))\n",
    "            value = np.uint64(parts[0])\n",
    "            weight = np.uint64(parts[1])\n",
    "            for k in range(0, capacity+1):\n",
    "                if k >= weight:\n",
    "                    dp_table[k,line_idx] = max(dp_table[k, line_idx - 1] , value + dp_table[k - weight, line_idx - 1])\n",
    "                else:\n",
    "                    dp_table[k,line_idx] = dp_table[k, line_idx - 1]"
   ]
  },
  {
   "cell_type": "code",
   "execution_count": 4,
   "metadata": {
    "collapsed": false
   },
   "outputs": [
    {
     "name": "stdout",
     "output_type": "stream",
     "text": [
      "[[99798 99798 99798 99798 99798 99798 99798 99798 99798]\n",
      " [99798 99798 99798 99798 99798 99798 99798 99798 99798]\n",
      " [99798 99798 99798 99798 99798 99798 99798 99798 99798]\n",
      " [99798 99798 99798 99798 99798 99798 99798 99798 99798]\n",
      " [99798 99798 99798 99798 99798 99798 99798 99798 99798]\n",
      " [99798 99798 99798 99798 99798 99798 99798 99798 99798]\n",
      " [99798 99798 99798 99798 99798 99798 99798 99798 99798]\n",
      " [99798 99798 99798 99798 99798 99798 99798 99798 99798]\n",
      " [99798 99798 99798 99798 99798 99798 99798 99798 99798]]\n"
     ]
    }
   ],
   "source": [
    "print(dp_table[-10:-1,-10:-1])"
   ]
  },
  {
   "cell_type": "code",
   "execution_count": 5,
   "metadata": {
    "collapsed": false
   },
   "outputs": [],
   "source": [
    "output_data = str(dp_table[capacity][item_count]) + ' ' + str(0) + '\\n'\n",
    "taken = [0] * item_count\n",
    "\n",
    "k = capacity\n",
    "\n",
    "for i in range(item_count,0,-1):\n",
    "    if dp_table[k, i] != dp_table[k, i-1]:\n",
    "        taken[i-1] = 1\n",
    "        k -= items[i-1].weight\n",
    "        continue\n",
    "    else:\n",
    "        continue\n",
    "        \n",
    "output_data += ' '.join(map(str, taken))"
   ]
  },
  {
   "cell_type": "code",
   "execution_count": 6,
   "metadata": {
    "collapsed": false
   },
   "outputs": [
    {
     "name": "stdout",
     "output_type": "stream",
     "text": [
      "99798 0\n",
      "0 0 1 0 1 0 1 0 1 0 1 0 1 0 0 0 1 0 1 0 1 0 0 0 0 0 0 0 0 0\n"
     ]
    }
   ],
   "source": [
    "print(output_data)"
   ]
  },
  {
   "cell_type": "code",
   "execution_count": 7,
   "metadata": {
    "collapsed": false
   },
   "outputs": [
    {
     "name": "stdout",
     "output_type": "stream",
     "text": [
      "Sum Value= 99798\n",
      "Sum Weight= 99846\n",
      "Capacity= 100000\n",
      "Count Items taken= 9\n"
     ]
    }
   ],
   "source": [
    "print('Sum Value= ' + str(sum(a.value for (a,b) in zip(items,taken) if b == 1)))\n",
    "\n",
    "print('Sum Weight= ' + str(sum(a.weight for (a,b) in zip(items,taken) if b == 1)))\n",
    "\n",
    "print('Capacity= ' + str(capacity))\n",
    "\n",
    "print('Count Items taken= ' + str(sum(taken)))"
   ]
  },
  {
   "cell_type": "code",
   "execution_count": null,
   "metadata": {
    "collapsed": true
   },
   "outputs": [],
   "source": []
  },
  {
   "cell_type": "code",
   "execution_count": null,
   "metadata": {
    "collapsed": true
   },
   "outputs": [],
   "source": []
  }
 ],
 "metadata": {
  "kernelspec": {
   "display_name": "Python 3",
   "language": "python",
   "name": "python3"
  },
  "language_info": {
   "codemirror_mode": {
    "name": "ipython",
    "version": 3
   },
   "file_extension": ".py",
   "mimetype": "text/x-python",
   "name": "python",
   "nbconvert_exporter": "python",
   "pygments_lexer": "ipython3",
   "version": "3.4.3"
  }
 },
 "nbformat": 4,
 "nbformat_minor": 0
}
